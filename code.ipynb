{
 "cells": [
  {
   "attachments": {},
   "cell_type": "markdown",
   "metadata": {},
   "source": [
    "Patrick Cummins\n",
    "\n",
    "Professor Yan\n",
    "\n",
    "STAT 3255\n",
    "\n",
    "April 26th, 2023"
   ]
  },
  {
   "attachments": {},
   "cell_type": "markdown",
   "metadata": {},
   "source": [
    "# Exoplanet Hunting with Convolutional Neural Networks"
   ]
  },
  {
   "cell_type": "code",
   "execution_count": 300,
   "metadata": {},
   "outputs": [],
   "source": [
    "import pandas as pd\n",
    "import matplotlib.pyplot as plt\n",
    "import numpy as np"
   ]
  },
  {
   "cell_type": "code",
   "execution_count": 346,
   "metadata": {},
   "outputs": [],
   "source": [
    "data = pd.read_csv('exoTrain.csv')"
   ]
  },
  {
   "cell_type": "code",
   "execution_count": 347,
   "metadata": {},
   "outputs": [],
   "source": [
    "data.loc[data['LABEL'] == 1, 'LABEL'] = 0\n",
    "data.loc[data['LABEL'] == 2, 'LABEL'] = 1"
   ]
  },
  {
   "attachments": {},
   "cell_type": "markdown",
   "metadata": {},
   "source": [
    "## Background"
   ]
  },
  {
   "attachments": {},
   "cell_type": "markdown",
   "metadata": {},
   "source": [
    "Exoplanet Hunting is the idea of using light data from stars to find planets deep into outer space. This is possible by looking for 'transits', or the time in which a planet passes between a star and its observer. The light emitting from the star dims as the planet blocks its path, giving us data that would tell us if a planet is orbiting that star."
   ]
  },
  {
   "attachments": {},
   "cell_type": "markdown",
   "metadata": {},
   "source": [
    "This data was collected through observations made by the NASA Kepler space telescope, specifically **Campaign 3** in 2014. These telescopes measure the light curve of stars deep into space. When these curves 'dip', we know that this is a ***transit***, and thus there is likely to be a planet orbiting this star."
   ]
  },
  {
   "attachments": {},
   "cell_type": "markdown",
   "metadata": {},
   "source": [
    "We measure light intensity as 'flux'. For the purposes of this analysis, we can imagine that a flux is like a minute, or second, or hour: it is a point in time in which we are measuring light data. Our data is structured as such: a .csv file with 5087 rows, representing stars, and 3198 columns, representing the **flux values**. These are the 'points in time' mentioned above. Essentially, each column represents a new time in which light intensity was measured. Our data also comes prelabeled, telling us whether there is or is not a planet orbiting the star. This makes this a supervised learning problem, as our data is prelabeled."
   ]
  },
  {
   "cell_type": "code",
   "execution_count": 303,
   "metadata": {},
   "outputs": [
    {
     "data": {
      "text/html": [
       "<div>\n",
       "<style scoped>\n",
       "    .dataframe tbody tr th:only-of-type {\n",
       "        vertical-align: middle;\n",
       "    }\n",
       "\n",
       "    .dataframe tbody tr th {\n",
       "        vertical-align: top;\n",
       "    }\n",
       "\n",
       "    .dataframe thead th {\n",
       "        text-align: right;\n",
       "    }\n",
       "</style>\n",
       "<table border=\"1\" class=\"dataframe\">\n",
       "  <thead>\n",
       "    <tr style=\"text-align: right;\">\n",
       "      <th></th>\n",
       "      <th>LABEL</th>\n",
       "      <th>FLUX.1</th>\n",
       "      <th>FLUX.2</th>\n",
       "      <th>FLUX.3</th>\n",
       "      <th>FLUX.4</th>\n",
       "      <th>FLUX.5</th>\n",
       "      <th>FLUX.6</th>\n",
       "      <th>FLUX.7</th>\n",
       "      <th>FLUX.8</th>\n",
       "      <th>FLUX.9</th>\n",
       "      <th>...</th>\n",
       "      <th>FLUX.3188</th>\n",
       "      <th>FLUX.3189</th>\n",
       "      <th>FLUX.3190</th>\n",
       "      <th>FLUX.3191</th>\n",
       "      <th>FLUX.3192</th>\n",
       "      <th>FLUX.3193</th>\n",
       "      <th>FLUX.3194</th>\n",
       "      <th>FLUX.3195</th>\n",
       "      <th>FLUX.3196</th>\n",
       "      <th>FLUX.3197</th>\n",
       "    </tr>\n",
       "  </thead>\n",
       "  <tbody>\n",
       "    <tr>\n",
       "      <th>0</th>\n",
       "      <td>1</td>\n",
       "      <td>93.85</td>\n",
       "      <td>83.81</td>\n",
       "      <td>20.10</td>\n",
       "      <td>-26.98</td>\n",
       "      <td>-39.56</td>\n",
       "      <td>-124.71</td>\n",
       "      <td>-135.18</td>\n",
       "      <td>-96.27</td>\n",
       "      <td>-79.89</td>\n",
       "      <td>...</td>\n",
       "      <td>-78.07</td>\n",
       "      <td>-102.15</td>\n",
       "      <td>-102.15</td>\n",
       "      <td>25.13</td>\n",
       "      <td>48.57</td>\n",
       "      <td>92.54</td>\n",
       "      <td>39.32</td>\n",
       "      <td>61.42</td>\n",
       "      <td>5.08</td>\n",
       "      <td>-39.54</td>\n",
       "    </tr>\n",
       "    <tr>\n",
       "      <th>1</th>\n",
       "      <td>1</td>\n",
       "      <td>-38.88</td>\n",
       "      <td>-33.83</td>\n",
       "      <td>-58.54</td>\n",
       "      <td>-40.09</td>\n",
       "      <td>-79.31</td>\n",
       "      <td>-72.81</td>\n",
       "      <td>-86.55</td>\n",
       "      <td>-85.33</td>\n",
       "      <td>-83.97</td>\n",
       "      <td>...</td>\n",
       "      <td>-3.28</td>\n",
       "      <td>-32.21</td>\n",
       "      <td>-32.21</td>\n",
       "      <td>-24.89</td>\n",
       "      <td>-4.86</td>\n",
       "      <td>0.76</td>\n",
       "      <td>-11.70</td>\n",
       "      <td>6.46</td>\n",
       "      <td>16.00</td>\n",
       "      <td>19.93</td>\n",
       "    </tr>\n",
       "    <tr>\n",
       "      <th>2</th>\n",
       "      <td>1</td>\n",
       "      <td>532.64</td>\n",
       "      <td>535.92</td>\n",
       "      <td>513.73</td>\n",
       "      <td>496.92</td>\n",
       "      <td>456.45</td>\n",
       "      <td>466.00</td>\n",
       "      <td>464.50</td>\n",
       "      <td>486.39</td>\n",
       "      <td>436.56</td>\n",
       "      <td>...</td>\n",
       "      <td>-71.69</td>\n",
       "      <td>13.31</td>\n",
       "      <td>13.31</td>\n",
       "      <td>-29.89</td>\n",
       "      <td>-20.88</td>\n",
       "      <td>5.06</td>\n",
       "      <td>-11.80</td>\n",
       "      <td>-28.91</td>\n",
       "      <td>-70.02</td>\n",
       "      <td>-96.67</td>\n",
       "    </tr>\n",
       "    <tr>\n",
       "      <th>3</th>\n",
       "      <td>1</td>\n",
       "      <td>326.52</td>\n",
       "      <td>347.39</td>\n",
       "      <td>302.35</td>\n",
       "      <td>298.13</td>\n",
       "      <td>317.74</td>\n",
       "      <td>312.70</td>\n",
       "      <td>322.33</td>\n",
       "      <td>311.31</td>\n",
       "      <td>312.42</td>\n",
       "      <td>...</td>\n",
       "      <td>5.71</td>\n",
       "      <td>-3.73</td>\n",
       "      <td>-3.73</td>\n",
       "      <td>30.05</td>\n",
       "      <td>20.03</td>\n",
       "      <td>-12.67</td>\n",
       "      <td>-8.77</td>\n",
       "      <td>-17.31</td>\n",
       "      <td>-17.35</td>\n",
       "      <td>13.98</td>\n",
       "    </tr>\n",
       "    <tr>\n",
       "      <th>4</th>\n",
       "      <td>1</td>\n",
       "      <td>-1107.21</td>\n",
       "      <td>-1112.59</td>\n",
       "      <td>-1118.95</td>\n",
       "      <td>-1095.10</td>\n",
       "      <td>-1057.55</td>\n",
       "      <td>-1034.48</td>\n",
       "      <td>-998.34</td>\n",
       "      <td>-1022.71</td>\n",
       "      <td>-989.57</td>\n",
       "      <td>...</td>\n",
       "      <td>-594.37</td>\n",
       "      <td>-401.66</td>\n",
       "      <td>-401.66</td>\n",
       "      <td>-357.24</td>\n",
       "      <td>-443.76</td>\n",
       "      <td>-438.54</td>\n",
       "      <td>-399.71</td>\n",
       "      <td>-384.65</td>\n",
       "      <td>-411.79</td>\n",
       "      <td>-510.54</td>\n",
       "    </tr>\n",
       "    <tr>\n",
       "      <th>...</th>\n",
       "      <td>...</td>\n",
       "      <td>...</td>\n",
       "      <td>...</td>\n",
       "      <td>...</td>\n",
       "      <td>...</td>\n",
       "      <td>...</td>\n",
       "      <td>...</td>\n",
       "      <td>...</td>\n",
       "      <td>...</td>\n",
       "      <td>...</td>\n",
       "      <td>...</td>\n",
       "      <td>...</td>\n",
       "      <td>...</td>\n",
       "      <td>...</td>\n",
       "      <td>...</td>\n",
       "      <td>...</td>\n",
       "      <td>...</td>\n",
       "      <td>...</td>\n",
       "      <td>...</td>\n",
       "      <td>...</td>\n",
       "      <td>...</td>\n",
       "    </tr>\n",
       "    <tr>\n",
       "      <th>95</th>\n",
       "      <td>0</td>\n",
       "      <td>-286.04</td>\n",
       "      <td>-277.18</td>\n",
       "      <td>-329.63</td>\n",
       "      <td>-294.66</td>\n",
       "      <td>-234.19</td>\n",
       "      <td>-150.71</td>\n",
       "      <td>-158.08</td>\n",
       "      <td>-114.81</td>\n",
       "      <td>-122.00</td>\n",
       "      <td>...</td>\n",
       "      <td>10.50</td>\n",
       "      <td>46.57</td>\n",
       "      <td>69.72</td>\n",
       "      <td>58.66</td>\n",
       "      <td>82.86</td>\n",
       "      <td>53.06</td>\n",
       "      <td>-16.86</td>\n",
       "      <td>-45.82</td>\n",
       "      <td>-47.48</td>\n",
       "      <td>-38.17</td>\n",
       "    </tr>\n",
       "    <tr>\n",
       "      <th>96</th>\n",
       "      <td>0</td>\n",
       "      <td>4761.75</td>\n",
       "      <td>4503.50</td>\n",
       "      <td>4759.00</td>\n",
       "      <td>5007.75</td>\n",
       "      <td>5395.00</td>\n",
       "      <td>5350.75</td>\n",
       "      <td>5355.75</td>\n",
       "      <td>5329.00</td>\n",
       "      <td>5117.00</td>\n",
       "      <td>...</td>\n",
       "      <td>386.25</td>\n",
       "      <td>-109.25</td>\n",
       "      <td>-300.75</td>\n",
       "      <td>-436.50</td>\n",
       "      <td>-768.50</td>\n",
       "      <td>-1228.75</td>\n",
       "      <td>-796.50</td>\n",
       "      <td>-79.75</td>\n",
       "      <td>534.50</td>\n",
       "      <td>1280.50</td>\n",
       "    </tr>\n",
       "    <tr>\n",
       "      <th>97</th>\n",
       "      <td>0</td>\n",
       "      <td>-35.84</td>\n",
       "      <td>-32.77</td>\n",
       "      <td>-46.67</td>\n",
       "      <td>-23.55</td>\n",
       "      <td>-45.17</td>\n",
       "      <td>-61.51</td>\n",
       "      <td>-60.35</td>\n",
       "      <td>-62.24</td>\n",
       "      <td>-72.04</td>\n",
       "      <td>...</td>\n",
       "      <td>-127.63</td>\n",
       "      <td>-108.32</td>\n",
       "      <td>-104.61</td>\n",
       "      <td>-72.08</td>\n",
       "      <td>-80.99</td>\n",
       "      <td>-55.63</td>\n",
       "      <td>-138.11</td>\n",
       "      <td>-118.21</td>\n",
       "      <td>-106.13</td>\n",
       "      <td>-100.85</td>\n",
       "    </tr>\n",
       "    <tr>\n",
       "      <th>98</th>\n",
       "      <td>0</td>\n",
       "      <td>23.20</td>\n",
       "      <td>-3.18</td>\n",
       "      <td>22.33</td>\n",
       "      <td>10.06</td>\n",
       "      <td>8.24</td>\n",
       "      <td>18.04</td>\n",
       "      <td>9.84</td>\n",
       "      <td>-0.75</td>\n",
       "      <td>-5.02</td>\n",
       "      <td>...</td>\n",
       "      <td>21.34</td>\n",
       "      <td>8.35</td>\n",
       "      <td>4.09</td>\n",
       "      <td>-4.47</td>\n",
       "      <td>-16.85</td>\n",
       "      <td>3.29</td>\n",
       "      <td>-3.87</td>\n",
       "      <td>-23.13</td>\n",
       "      <td>-2.44</td>\n",
       "      <td>-10.43</td>\n",
       "    </tr>\n",
       "    <tr>\n",
       "      <th>99</th>\n",
       "      <td>0</td>\n",
       "      <td>-165.04</td>\n",
       "      <td>-168.18</td>\n",
       "      <td>-206.71</td>\n",
       "      <td>-215.09</td>\n",
       "      <td>-226.62</td>\n",
       "      <td>-195.51</td>\n",
       "      <td>-150.17</td>\n",
       "      <td>-79.00</td>\n",
       "      <td>-37.79</td>\n",
       "      <td>...</td>\n",
       "      <td>-89.60</td>\n",
       "      <td>-36.67</td>\n",
       "      <td>10.08</td>\n",
       "      <td>29.11</td>\n",
       "      <td>33.00</td>\n",
       "      <td>1.21</td>\n",
       "      <td>104.22</td>\n",
       "      <td>97.35</td>\n",
       "      <td>104.94</td>\n",
       "      <td>97.55</td>\n",
       "    </tr>\n",
       "  </tbody>\n",
       "</table>\n",
       "<p>100 rows × 3198 columns</p>\n",
       "</div>"
      ],
      "text/plain": [
       "    LABEL   FLUX.1   FLUX.2   FLUX.3   FLUX.4   FLUX.5   FLUX.6   FLUX.7  \\\n",
       "0       1    93.85    83.81    20.10   -26.98   -39.56  -124.71  -135.18   \n",
       "1       1   -38.88   -33.83   -58.54   -40.09   -79.31   -72.81   -86.55   \n",
       "2       1   532.64   535.92   513.73   496.92   456.45   466.00   464.50   \n",
       "3       1   326.52   347.39   302.35   298.13   317.74   312.70   322.33   \n",
       "4       1 -1107.21 -1112.59 -1118.95 -1095.10 -1057.55 -1034.48  -998.34   \n",
       "..    ...      ...      ...      ...      ...      ...      ...      ...   \n",
       "95      0  -286.04  -277.18  -329.63  -294.66  -234.19  -150.71  -158.08   \n",
       "96      0  4761.75  4503.50  4759.00  5007.75  5395.00  5350.75  5355.75   \n",
       "97      0   -35.84   -32.77   -46.67   -23.55   -45.17   -61.51   -60.35   \n",
       "98      0    23.20    -3.18    22.33    10.06     8.24    18.04     9.84   \n",
       "99      0  -165.04  -168.18  -206.71  -215.09  -226.62  -195.51  -150.17   \n",
       "\n",
       "     FLUX.8   FLUX.9  ...  FLUX.3188  FLUX.3189  FLUX.3190  FLUX.3191  \\\n",
       "0    -96.27   -79.89  ...     -78.07    -102.15    -102.15      25.13   \n",
       "1    -85.33   -83.97  ...      -3.28     -32.21     -32.21     -24.89   \n",
       "2    486.39   436.56  ...     -71.69      13.31      13.31     -29.89   \n",
       "3    311.31   312.42  ...       5.71      -3.73      -3.73      30.05   \n",
       "4  -1022.71  -989.57  ...    -594.37    -401.66    -401.66    -357.24   \n",
       "..      ...      ...  ...        ...        ...        ...        ...   \n",
       "95  -114.81  -122.00  ...      10.50      46.57      69.72      58.66   \n",
       "96  5329.00  5117.00  ...     386.25    -109.25    -300.75    -436.50   \n",
       "97   -62.24   -72.04  ...    -127.63    -108.32    -104.61     -72.08   \n",
       "98    -0.75    -5.02  ...      21.34       8.35       4.09      -4.47   \n",
       "99   -79.00   -37.79  ...     -89.60     -36.67      10.08      29.11   \n",
       "\n",
       "    FLUX.3192  FLUX.3193  FLUX.3194  FLUX.3195  FLUX.3196  FLUX.3197  \n",
       "0       48.57      92.54      39.32      61.42       5.08     -39.54  \n",
       "1       -4.86       0.76     -11.70       6.46      16.00      19.93  \n",
       "2      -20.88       5.06     -11.80     -28.91     -70.02     -96.67  \n",
       "3       20.03     -12.67      -8.77     -17.31     -17.35      13.98  \n",
       "4     -443.76    -438.54    -399.71    -384.65    -411.79    -510.54  \n",
       "..        ...        ...        ...        ...        ...        ...  \n",
       "95      82.86      53.06     -16.86     -45.82     -47.48     -38.17  \n",
       "96    -768.50   -1228.75    -796.50     -79.75     534.50    1280.50  \n",
       "97     -80.99     -55.63    -138.11    -118.21    -106.13    -100.85  \n",
       "98     -16.85       3.29      -3.87     -23.13      -2.44     -10.43  \n",
       "99      33.00       1.21     104.22      97.35     104.94      97.55  \n",
       "\n",
       "[100 rows x 3198 columns]"
      ]
     },
     "execution_count": 303,
     "metadata": {},
     "output_type": "execute_result"
    }
   ],
   "source": [
    "data.head(100)"
   ]
  },
  {
   "attachments": {},
   "cell_type": "markdown",
   "metadata": {},
   "source": [
    "## Goals"
   ]
  },
  {
   "attachments": {},
   "cell_type": "markdown",
   "metadata": {},
   "source": [
    "Within this project, I will be creating a **Convolutional Neural Network** in order to classify and predict whether a star has an orbiting exoplanet or not. This project presents some challenges I have yet to face in my data science career:\n",
    "- working with 'time series' data\n",
    "- working with Convolutional Neural Networks\n",
    "- working with data that likely requires intense preprocessing\n",
    "- working with highly imbalanced data\n",
    "- working with such a high volume of data"
   ]
  },
  {
   "attachments": {},
   "cell_type": "markdown",
   "metadata": {},
   "source": [
    "### Convolutional Neural Networks"
   ]
  },
  {
   "attachments": {},
   "cell_type": "markdown",
   "metadata": {},
   "source": [
    "Convolutional neural networks (CNNs) are a type of neural network that are particularly well-suited for image and signal processing tasks. Unlike traditional neural networks, which are fully connected and treat input data as a flat vector, CNNs operate on multidimensional input data such as images or time-series data.\n",
    "\n",
    "CNNs use a series of filters (also known as kernels) that slide over the input data, applying convolution operations to each patch of the input. These filters learn to recognize local patterns in the input data, such as edges, corners, and other features. The outputs of the filters are then pooled, which reduces the dimensionality of the output and helps to extract higher-level features from the input data."
   ]
  },
  {
   "attachments": {},
   "cell_type": "markdown",
   "metadata": {},
   "source": [
    "## Understanding the Data"
   ]
  },
  {
   "attachments": {},
   "cell_type": "markdown",
   "metadata": {},
   "source": [
    "We can look at flux values over time for both stars with and without confirmed exoplanets. Here is the flux chart for a star with a confirmed exoplanet:"
   ]
  },
  {
   "cell_type": "code",
   "execution_count": 304,
   "metadata": {},
   "outputs": [
    {
     "data": {
      "image/png": "[encoded data removed]",
      "text/plain": [
       "<Figure size 432x288 with 1 Axes>"
      ]
     },
     "metadata": {
      "needs_background": "light"
     },
     "output_type": "display_data"
    }
   ],
   "source": [
    "plt.title('Flux Values of Star with Confirmed Exoplanet')\n",
    "plt.xlabel('Flux Values')\n",
    "plt.ylabel('Flux Intensity')\n",
    "plt.plot(data.iloc[0, ])\n",
    "plt.xticks(np.arange(1, 3199, 500), fontsize = 8)\n",
    "plt.show()\n"
   ]
  },
  {
   "attachments": {},
   "cell_type": "markdown",
   "metadata": {},
   "source": [
    "Here is the flux chart for a star with no confirmed exoplanet:"
   ]
  },
  {
   "cell_type": "code",
   "execution_count": 305,
   "metadata": {},
   "outputs": [
    {
     "data": {
      "image/png": "[encoded data removed]",
      "text/plain": [
       "<Figure size 432x288 with 1 Axes>"
      ]
     },
     "metadata": {
      "needs_background": "light"
     },
     "output_type": "display_data"
    }
   ],
   "source": [
    "plt.title('Flux Values of Star with No Confirmed Exoplanet')\n",
    "plt.xlabel('Flux Values')\n",
    "plt.ylabel('Flux Intensity')\n",
    "plt.plot(data.iloc[38, ])\n",
    "plt.xticks(range(len(data.columns)), data.columns)\n",
    "plt.xticks(np.arange(1, 3199, 500), fontsize = 8)\n",
    "plt.show()"
   ]
  },
  {
   "attachments": {},
   "cell_type": "markdown",
   "metadata": {},
   "source": [
    "As you can see, the dip in the first graph represents the transit that can be seen and the point in time in which a planet passes between the star and the Kepler telescope."
   ]
  },
  {
   "attachments": {},
   "cell_type": "markdown",
   "metadata": {},
   "source": [
    "To understand our data better, we look at multiple stars with confirmed exoplanets:"
   ]
  },
  {
   "cell_type": "code",
   "execution_count": 306,
   "metadata": {},
   "outputs": [
    {
     "data": {
      "image/png": "[encoded data removed]",
      "text/plain": [
       "<Figure size 432x288 with 4 Axes>"
      ]
     },
     "metadata": {
      "needs_background": "light"
     },
     "output_type": "display_data"
    }
   ],
   "source": [
    "fig, axs = plt.subplots(2, 2)\n",
    "fig.suptitle('Stars with Confirmed Exoplanets')\n",
    "axs[0,0].plot(data.iloc[0, ])\n",
    "axs[0,0].set_title('Star 1')\n",
    "axs[0,0].set_xticks([])\n",
    "axs[0,1].plot(data.iloc[1, ], 'tab:orange')\n",
    "axs[0,1].set_title('Star 2')\n",
    "axs[0,1].set_xticks([])\n",
    "axs[1,0].plot(data.iloc[2, ], 'tab:green')\n",
    "axs[1,0].set_title('Star 3')\n",
    "axs[1,0].set_xticks([])\n",
    "axs[1,1].plot(data.iloc[3, ], 'tab:red')\n",
    "axs[1,1].set_title('Star 4')\n",
    "axs[1,1].set_xticks([])\n",
    "for ax in axs.flat:\n",
    "    ax.set(xlabel='Flux Values', ylabel='Flux Intensity')\n",
    "for ax in fig.get_axes():\n",
    "    ax.label_outer()"
   ]
  },
  {
   "attachments": {},
   "cell_type": "markdown",
   "metadata": {},
   "source": [
    "## Preprocessing"
   ]
  },
  {
   "attachments": {},
   "cell_type": "markdown",
   "metadata": {},
   "source": [
    "### Normalization"
   ]
  },
  {
   "attachments": {},
   "cell_type": "markdown",
   "metadata": {},
   "source": [
    "When working with light data, we likely need to normalize and standardize our data. In the above graphic, it is seen that we have clean data, but it is not normalized. Checking the distribution of our data to see what kind of normalization to do:"
   ]
  },
  {
   "cell_type": "code",
   "execution_count": 307,
   "metadata": {},
   "outputs": [
    {
     "data": {
      "image/png": "[encoded data removed]",
      "text/plain": [
       "<Figure size 432x288 with 4 Axes>"
      ]
     },
     "metadata": {
      "needs_background": "light"
     },
     "output_type": "display_data"
    }
   ],
   "source": [
    "fig, axs = plt.subplots(2, 2, layout = 'constrained')\n",
    "fig.suptitle('Histograms to show Distribution')\n",
    "axs[0,0].hist(data.iloc[1, 1:], bins = 200)\n",
    "axs[0,0].set_title('Star 1')\n",
    "axs[0,0].set_xticks([])\n",
    "axs[0,1].hist(data.iloc[10, 1:], bins = 200)\n",
    "axs[0,1].set_title('Star 10')\n",
    "axs[0,1].set_xticks([])\n",
    "axs[1,0].hist(data.iloc[100, 1:], bins = 200)\n",
    "axs[1,0].set_title('Star 100')\n",
    "axs[1,0].set_xticks([])\n",
    "axs[1,1].hist(data.iloc[1000, 1:], bins = 200)\n",
    "axs[1,1].set_title('Star 1000')\n",
    "axs[1,1].set_xticks([])\n",
    "\n",
    "for ax in fig.get_axes():\n",
    "    ax.label_outer()\n",
    "plt.show()\n"
   ]
  },
  {
   "attachments": {},
   "cell_type": "markdown",
   "metadata": {},
   "source": [
    "The data follows a Gaussian distribution\n",
    "- First, I normalized the data by scaling vectors to unit norm.\n",
    "- Then, I applied a Gaussian filter to match the distributions seen in the histogram above.\n",
    "- Lastly, I standardized the data by scaling to unit variance."
   ]
  },
  {
   "attachments": {},
   "cell_type": "markdown",
   "metadata": {},
   "source": [
    "### Principal Component Analysis"
   ]
  },
  {
   "attachments": {},
   "cell_type": "markdown",
   "metadata": {},
   "source": [
    "Because there were so many features (3197 flux value columns), principal component analysis was chosen to reduce the dimensionality of our dataset. The number of principal compnents ranged between 5-40 depending on the model, which I will touch on later. For the fully pre-processed model, there were 8 principal components to explained 90% of the variance:"
   ]
  },
  {
   "cell_type": "code",
   "execution_count": 406,
   "metadata": {},
   "outputs": [
    {
     "name": "stderr",
     "output_type": "stream",
     "text": [
      "C:\\Users\\Public\\Documents\\Wondershare\\CreatorTemp\\ipykernel_22936\\4010632054.py:6: DeprecationWarning: Please use `gaussian_filter` from the `scipy.ndimage` namespace, the `scipy.ndimage.filters` namespace is deprecated.\n",
      "  normalized_data_array = ndimage.filters.gaussian_filter(normalized_data_array, sigma=10)\n"
     ]
    }
   ],
   "source": [
    "from scipy import ndimage\n",
    "normalized_data = data.copy()\n",
    "normalized_data = normalized_data.drop(columns=['LABEL'])\n",
    "from sklearn import preprocessing\n",
    "normalized_data_array = preprocessing.normalize(normalized_data, norm = 'l2')\n",
    "normalized_data_array = ndimage.filters.gaussian_filter(normalized_data_array, sigma=10)\n",
    "normalized_data_array = preprocessing.StandardScaler().fit_transform(normalized_data)\n",
    "normalized_data = pd.DataFrame(normalized_data_array, columns=normalized_data.columns)\n"
   ]
  },
  {
   "cell_type": "code",
   "execution_count": 407,
   "metadata": {},
   "outputs": [
    {
     "data": {
      "text/plain": [
       "8"
      ]
     },
     "execution_count": 407,
     "metadata": {},
     "output_type": "execute_result"
    }
   ],
   "source": [
    "from sklearn.decomposition import PCA\n",
    "pca = PCA() \n",
    "pca.fit(normalized_data)\n",
    "k=0\n",
    "current_variance=0\n",
    "total = sum(pca.explained_variance_)\n",
    "while current_variance/total < 0.9:\n",
    "    current_variance += pca.explained_variance_[k]\n",
    "    k=k+1\n",
    "k"
   ]
  },
  {
   "cell_type": "code",
   "execution_count": 389,
   "metadata": {},
   "outputs": [
    {
     "data": {
      "text/plain": [
       "Text(0, 0.5, 'Variance')"
      ]
     },
     "execution_count": 389,
     "metadata": {},
     "output_type": "execute_result"
    },
    {
     "data": {
      "image/png": "[encoded data removed]",
      "text/plain": [
       "<Figure size 432x288 with 1 Axes>"
      ]
     },
     "metadata": {
      "needs_background": "light"
     },
     "output_type": "display_data"
    }
   ],
   "source": [
    "pca = PCA(n_components=8)\n",
    "normalized_data_pca = pca.fit_transform(normalized_data)\n",
    "plt.plot(range(1, k + 1), pca.explained_variance_ratio_.cumsum(), linestyle = '-')\n",
    "plt.title('Variance Explained by Components')\n",
    "plt.xlabel('# of Components')\n",
    "plt.ylabel('Variance')"
   ]
  },
  {
   "cell_type": "code",
   "execution_count": 390,
   "metadata": {},
   "outputs": [],
   "source": [
    "n_components = normalized_data_pca.shape[1]\n",
    "column_names = [f\"PC{i}\" for i in range(1, n_components + 1)]\n",
    "normalized_data_pca = pd.DataFrame(data=normalized_data_pca, columns=column_names)\n",
    "normalized_data_pca['Label'] = data['LABEL']"
   ]
  },
  {
   "attachments": {},
   "cell_type": "markdown",
   "metadata": {},
   "source": [
    "The data was also highly imbalanced:"
   ]
  },
  {
   "cell_type": "code",
   "execution_count": 376,
   "metadata": {},
   "outputs": [
    {
     "data": {
      "image/png": "[encoded data removed]",
      "text/plain": [
       "<Figure size 432x288 with 1 Axes>"
      ]
     },
     "metadata": {
      "needs_background": "light"
     },
     "output_type": "display_data"
    }
   ],
   "source": [
    "label_counts = normalized_data_pca['Label'].value_counts()\n",
    "x = [0, 1]\n",
    "labels = ['0', '1']\n",
    "colors = ['tab:blue', 'tab:orange']\n",
    "fig, ax = plt.subplots()\n",
    "ax.bar(x, label_counts, color=colors)\n",
    "ax.set_xticks(x)\n",
    "ax.set_xticklabels(labels)\n",
    "ax.set_xlabel('Labels')\n",
    "ax.set_ylabel('Count')\n",
    "ax.set_title('Proportion of Stars with/without Exoplanets')\n",
    "plt.show()"
   ]
  },
  {
   "attachments": {},
   "cell_type": "markdown",
   "metadata": {},
   "source": [
    "Using Synthetic Minority Over-sampling Technique (SMOTE), I was able to gain resampled and more balanced data:"
   ]
  },
  {
   "cell_type": "code",
   "execution_count": 408,
   "metadata": {},
   "outputs": [],
   "source": [
    "from imblearn.over_sampling import SMOTE\n",
    "from sklearn.model_selection import train_test_split\n",
    "X = normalized_data_pca.iloc[:, :-1]\n",
    "y = normalized_data_pca.iloc[:, -1]\n",
    "sm = SMOTE(sampling_strategy = 0.5, random_state = 10)\n",
    "x_train, x_test, y_train, y_test = train_test_split(X, y, train_size = 0.75)\n",
    "x_train, y_train = sm.fit_resample(x_train, y_train)\n"
   ]
  },
  {
   "cell_type": "code",
   "execution_count": 378,
   "metadata": {},
   "outputs": [
    {
     "data": {
      "image/png": "[encoded data removed]",
      "text/plain": [
       "<Figure size 432x288 with 1 Axes>"
      ]
     },
     "metadata": {
      "needs_background": "light"
     },
     "output_type": "display_data"
    }
   ],
   "source": [
    "unique, counts = np.unique(y_train, return_counts=True)\n",
    "x = [0, 1]\n",
    "labels = ['0', '1']\n",
    "colors = ['tab:blue', 'tab:orange']\n",
    "fig, ax = plt.subplots()\n",
    "ax.bar(unique, counts, color = colors)\n",
    "ax.set_xticks(x)\n",
    "ax.set_xticklabels(labels)\n",
    "ax.set_title('Resampled Proportions for Stars')\n",
    "ax.set_xlabel('Class Label')\n",
    "ax.set_ylabel('Count')\n",
    "plt.show()\n"
   ]
  },
  {
   "cell_type": "code",
   "execution_count": 151,
   "metadata": {},
   "outputs": [],
   "source": [
    "import tensorflow as tf\n",
    "from tensorflow import keras\n",
    "from tensorflow.keras.models import Sequential\n",
    "from tensorflow.keras.layers import Activation, Dense, BatchNormalization, MaxPooling1D, Conv1D, Flatten, Dropout, Reshape, ZeroPadding1D\n",
    "from tensorflow.keras.optimizers import Adam"
   ]
  },
  {
   "cell_type": "code",
   "execution_count": 409,
   "metadata": {},
   "outputs": [],
   "source": [
    "x_train = x_train.to_numpy()"
   ]
  },
  {
   "attachments": {},
   "cell_type": "markdown",
   "metadata": {},
   "source": [
    "## Model Creation and Evaluation"
   ]
  },
  {
   "attachments": {},
   "cell_type": "markdown",
   "metadata": {},
   "source": [
    "### Structure of CNN"
   ]
  },
  {
   "attachments": {},
   "cell_type": "markdown",
   "metadata": {},
   "source": [
    "Here is the structure for the Convolutional Neural Network used in this model:"
   ]
  },
  {
   "attachments": {},
   "cell_type": "markdown",
   "metadata": {},
   "source": [
    "Here is the structure for the Convolutional Neural Network used in this model:\n",
    "\n",
    "1. 1D Convolutional Layer: 16 filters, 3 x 3 kernel, ReLU activation, input shape = (# of timesteps (columns), 1)\n",
    "\n",
    "2. 1D Max Pooling Layer: size = 2, strides = 2\n",
    "\n",
    "3. Batch Normalization\n",
    "\n",
    "4. 1D Convolutional Layer: 32 filters, 3 x 3 kernel, ReLU activation\n",
    "\n",
    "5. 1D Max Pooling Layer: size = 2, strides = 2\n",
    "\n",
    "6. Batch Normalization\n",
    "\n",
    "7. 1D Convolutional Layer: 64 filters, 3 x 3 kernel, ReLU activation, input shape = (# of timesteps (columns), 1)\n",
    "\n",
    "8. 1D Max Pooling Layer: size = 2, strides = 2\n",
    "\n",
    "9. Batch Normalization\n",
    "\n",
    "10. 1D Convolutional Layer: 128 filters, 3 x 3 kernel, ReLU activation, input shape = (# of timesteps (columns), 1)\n",
    "\n",
    "11. 1D Max Pooling Layer: size = 2, strides = 2\n",
    "\n",
    "12. Batch Normalization\n",
    "\n",
    "13. Flatten to 1D layer\n",
    "\n",
    "14. Dropout: 0.5\n",
    "\n",
    "15. Dense: 64 units, ReLU activation\n",
    "\n",
    "16. Dropout: 0.25\n",
    "\n",
    "17. Dense: 64 units, ReLU activation\n",
    "\n",
    "18. Dense: 1 unit, Sigmoid activation\n"
   ]
  },
  {
   "attachments": {},
   "cell_type": "markdown",
   "metadata": {},
   "source": [
    "Model hyperparamaters were batch size = 64, and epochs = 50, optimizer = Adam, and loss = binary_crossentropy"
   ]
  },
  {
   "cell_type": "code",
   "execution_count": 410,
   "metadata": {},
   "outputs": [
    {
     "name": "stdout",
     "output_type": "stream",
     "text": [
      "Model: \"sequential_71\"\n",
      "_________________________________________________________________\n",
      " Layer (type)                Output Shape              Param #   \n",
      "=================================================================\n",
      " conv1d_171 (Conv1D)         (None, 8, 16)             64        \n",
      "                                                                 \n",
      " max_pooling1d_142 (MaxPooli  (None, 4, 16)            0         \n",
      " ng1D)                                                           \n",
      "                                                                 \n",
      " batch_normalization_108 (Ba  (None, 4, 16)            64        \n",
      " tchNormalization)                                               \n",
      "                                                                 \n",
      " conv1d_172 (Conv1D)         (None, 4, 32)             1568      \n",
      "                                                                 \n",
      " max_pooling1d_143 (MaxPooli  (None, 2, 32)            0         \n",
      " ng1D)                                                           \n",
      "                                                                 \n",
      " batch_normalization_109 (Ba  (None, 2, 32)            128       \n",
      " tchNormalization)                                               \n",
      "                                                                 \n",
      " conv1d_173 (Conv1D)         (None, 2, 64)             6208      \n",
      "                                                                 \n",
      " max_pooling1d_144 (MaxPooli  (None, 1, 64)            0         \n",
      " ng1D)                                                           \n",
      "                                                                 \n",
      " batch_normalization_110 (Ba  (None, 1, 64)            256       \n",
      " tchNormalization)                                               \n",
      "                                                                 \n",
      " conv1d_174 (Conv1D)         (None, 1, 128)            24704     \n",
      "                                                                 \n",
      " max_pooling1d_145 (MaxPooli  (None, 1, 128)           0         \n",
      " ng1D)                                                           \n",
      "                                                                 \n",
      " flatten_28 (Flatten)        (None, 128)               0         \n",
      "                                                                 \n",
      " dropout_56 (Dropout)        (None, 128)               0         \n",
      "                                                                 \n",
      " dense_84 (Dense)            (None, 64)                8256      \n",
      "                                                                 \n",
      " dropout_57 (Dropout)        (None, 64)                0         \n",
      "                                                                 \n",
      " dense_85 (Dense)            (None, 64)                4160      \n",
      "                                                                 \n",
      " dense_86 (Dense)            (None, 1)                 65        \n",
      "                                                                 \n",
      "=================================================================\n",
      "Total params: 45,473\n",
      "Trainable params: 45,249\n",
      "Non-trainable params: 224\n",
      "_________________________________________________________________\n"
     ]
    }
   ],
   "source": [
    "model = Sequential()\n",
    "model.add(Conv1D(filters = 16, kernel_size = 3, activation = 'relu', input_shape = (x_train.shape[1], 1), padding='same'))\n",
    "model.add(MaxPooling1D(pool_size = 2, strides = 2, padding='same'))\n",
    "model.add(BatchNormalization())\n",
    "model.add(Conv1D(filters = 32, kernel_size = 3, activation = 'relu', padding='same'))\n",
    "model.add(MaxPooling1D(pool_size = 2, strides = 2, padding='same'))\n",
    "model.add(BatchNormalization())\n",
    "model.add(Conv1D(filters = 64, kernel_size = 3, activation = 'relu', padding='same'))\n",
    "model.add(MaxPooling1D(pool_size = 2, strides = 2, padding='same'))\n",
    "model.add(BatchNormalization())\n",
    "model.add(Conv1D(filters = 128, kernel_size = 3, activation = 'relu', padding='same'))\n",
    "model.add(MaxPooling1D(pool_size = 2, strides = 2, padding='same'))\n",
    "model.add(Flatten())\n",
    "model.add(Dropout(0.5))\n",
    "model.add(Dense(units = 64, activation = 'relu'))\n",
    "model.add(Dropout(0.25))\n",
    "model.add(Dense(units = 64, activation = 'relu'))\n",
    "model.add(Dense(units = 1, activation = 'sigmoid'))\n",
    "model.summary()"
   ]
  },
  {
   "cell_type": "code",
   "execution_count": 411,
   "metadata": {},
   "outputs": [
    {
     "name": "stdout",
     "output_type": "stream",
     "text": [
      "Epoch 1/50\n",
      "89/89 [==============================] - 6s 7ms/step - loss: 0.5981 - accuracy: 0.6850\n",
      "Epoch 2/50\n",
      "89/89 [==============================] - 1s 7ms/step - loss: 0.4996 - accuracy: 0.7741\n",
      "Epoch 3/50\n",
      "89/89 [==============================] - 1s 7ms/step - loss: 0.4602 - accuracy: 0.7964\n",
      "Epoch 4/50\n",
      "89/89 [==============================] - 1s 7ms/step - loss: 0.4438 - accuracy: 0.8051\n",
      "Epoch 5/50\n",
      "89/89 [==============================] - 1s 7ms/step - loss: 0.4209 - accuracy: 0.8195\n",
      "Epoch 6/50\n",
      "89/89 [==============================] - 1s 7ms/step - loss: 0.4029 - accuracy: 0.8267\n",
      "Epoch 7/50\n",
      "89/89 [==============================] - 1s 7ms/step - loss: 0.3899 - accuracy: 0.8398\n",
      "Epoch 8/50\n",
      "89/89 [==============================] - 1s 7ms/step - loss: 0.3829 - accuracy: 0.8304\n",
      "Epoch 9/50\n",
      "89/89 [==============================] - 1s 7ms/step - loss: 0.3791 - accuracy: 0.8325\n",
      "Epoch 10/50\n",
      "89/89 [==============================] - 1s 7ms/step - loss: 0.3705 - accuracy: 0.8396\n",
      "Epoch 11/50\n",
      "89/89 [==============================] - 1s 7ms/step - loss: 0.3441 - accuracy: 0.8480\n",
      "Epoch 12/50\n",
      "89/89 [==============================] - 1s 7ms/step - loss: 0.3396 - accuracy: 0.8584\n",
      "Epoch 13/50\n",
      "89/89 [==============================] - 1s 7ms/step - loss: 0.3342 - accuracy: 0.8577\n",
      "Epoch 14/50\n",
      "89/89 [==============================] - 1s 7ms/step - loss: 0.3210 - accuracy: 0.8641\n",
      "Epoch 15/50\n",
      "89/89 [==============================] - 1s 7ms/step - loss: 0.3404 - accuracy: 0.8521\n",
      "Epoch 16/50\n",
      "89/89 [==============================] - 1s 7ms/step - loss: 0.3192 - accuracy: 0.8635\n",
      "Epoch 17/50\n",
      "89/89 [==============================] - 1s 7ms/step - loss: 0.3203 - accuracy: 0.8565\n",
      "Epoch 18/50\n",
      "89/89 [==============================] - 1s 8ms/step - loss: 0.3138 - accuracy: 0.8614\n",
      "Epoch 19/50\n",
      "89/89 [==============================] - 1s 7ms/step - loss: 0.3141 - accuracy: 0.8651\n",
      "Epoch 20/50\n",
      "89/89 [==============================] - 1s 7ms/step - loss: 0.3132 - accuracy: 0.8713\n",
      "Epoch 21/50\n",
      "89/89 [==============================] - 1s 7ms/step - loss: 0.3077 - accuracy: 0.8702\n",
      "Epoch 22/50\n",
      "89/89 [==============================] - 1s 6ms/step - loss: 0.2943 - accuracy: 0.8743\n",
      "Epoch 23/50\n",
      "89/89 [==============================] - 1s 7ms/step - loss: 0.2861 - accuracy: 0.8801\n",
      "Epoch 24/50\n",
      "89/89 [==============================] - 1s 8ms/step - loss: 0.2783 - accuracy: 0.8801\n",
      "Epoch 25/50\n",
      "89/89 [==============================] - 1s 7ms/step - loss: 0.2802 - accuracy: 0.8764\n",
      "Epoch 26/50\n",
      "89/89 [==============================] - 1s 7ms/step - loss: 0.2797 - accuracy: 0.8845\n",
      "Epoch 27/50\n",
      "89/89 [==============================] - 1s 6ms/step - loss: 0.2759 - accuracy: 0.8817\n",
      "Epoch 28/50\n",
      "89/89 [==============================] - 1s 7ms/step - loss: 0.2856 - accuracy: 0.8748\n",
      "Epoch 29/50\n",
      "89/89 [==============================] - 1s 7ms/step - loss: 0.2595 - accuracy: 0.8952\n",
      "Epoch 30/50\n",
      "89/89 [==============================] - 1s 7ms/step - loss: 0.2570 - accuracy: 0.8912\n",
      "Epoch 31/50\n",
      "89/89 [==============================] - 1s 9ms/step - loss: 0.2610 - accuracy: 0.8951\n",
      "Epoch 32/50\n",
      "89/89 [==============================] - 1s 7ms/step - loss: 0.2729 - accuracy: 0.8818\n",
      "Epoch 33/50\n",
      "89/89 [==============================] - 1s 7ms/step - loss: 0.2545 - accuracy: 0.8899\n",
      "Epoch 34/50\n",
      "89/89 [==============================] - 1s 6ms/step - loss: 0.2352 - accuracy: 0.8996\n",
      "Epoch 35/50\n",
      "89/89 [==============================] - 1s 6ms/step - loss: 0.2479 - accuracy: 0.8933\n",
      "Epoch 36/50\n",
      "89/89 [==============================] - 1s 7ms/step - loss: 0.2596 - accuracy: 0.8917\n",
      "Epoch 37/50\n",
      "89/89 [==============================] - 1s 7ms/step - loss: 0.2431 - accuracy: 0.9016\n",
      "Epoch 38/50\n",
      "89/89 [==============================] - 1s 7ms/step - loss: 0.2274 - accuracy: 0.9093\n",
      "Epoch 39/50\n",
      "89/89 [==============================] - 1s 7ms/step - loss: 0.2264 - accuracy: 0.9040\n",
      "Epoch 40/50\n",
      "89/89 [==============================] - 1s 7ms/step - loss: 0.2430 - accuracy: 0.8963\n",
      "Epoch 41/50\n",
      "89/89 [==============================] - 1s 7ms/step - loss: 0.2306 - accuracy: 0.9046\n",
      "Epoch 42/50\n",
      "89/89 [==============================] - 1s 7ms/step - loss: 0.2287 - accuracy: 0.9026\n",
      "Epoch 43/50\n",
      "89/89 [==============================] - 1s 8ms/step - loss: 0.2262 - accuracy: 0.9063\n",
      "Epoch 44/50\n",
      "89/89 [==============================] - 1s 7ms/step - loss: 0.2293 - accuracy: 0.9063\n",
      "Epoch 45/50\n",
      "89/89 [==============================] - 1s 7ms/step - loss: 0.2167 - accuracy: 0.9120\n",
      "Epoch 46/50\n",
      "89/89 [==============================] - 1s 7ms/step - loss: 0.2333 - accuracy: 0.9051\n",
      "Epoch 47/50\n",
      "89/89 [==============================] - 1s 6ms/step - loss: 0.2240 - accuracy: 0.9118\n",
      "Epoch 48/50\n",
      "89/89 [==============================] - 1s 6ms/step - loss: 0.2122 - accuracy: 0.9130\n",
      "Epoch 49/50\n",
      "89/89 [==============================] - 1s 7ms/step - loss: 0.2198 - accuracy: 0.9083\n",
      "Epoch 50/50\n",
      "89/89 [==============================] - 1s 7ms/step - loss: 0.1954 - accuracy: 0.9216\n"
     ]
    }
   ],
   "source": [
    "model.compile(optimizer = 'Adam', loss='binary_crossentropy', metrics = ['accuracy'])\n",
    "history = model.fit(x_train, y_train, batch_size = 64, epochs = 50, verbose = 1)"
   ]
  },
  {
   "attachments": {},
   "cell_type": "markdown",
   "metadata": {},
   "source": [
    "To evaluate model performance, first looking towards our loss and accuracy charted over epochs:"
   ]
  },
  {
   "cell_type": "code",
   "execution_count": 412,
   "metadata": {},
   "outputs": [
    {
     "data": {
      "image/png": "[encoded data removed]",
      "text/plain": [
       "<Figure size 432x288 with 1 Axes>"
      ]
     },
     "metadata": {
      "needs_background": "light"
     },
     "output_type": "display_data"
    },
    {
     "data": {
      "image/png": "[encoded data removed]",
      "text/plain": [
       "<Figure size 432x288 with 1 Axes>"
      ]
     },
     "metadata": {
      "needs_background": "light"
     },
     "output_type": "display_data"
    }
   ],
   "source": [
    "plt.plot(history.history['loss'], color='b')\n",
    "plt.title('Loss over Epochs')\n",
    "plt.show()\n",
    "plt.plot(history.history['accuracy'], color='b')\n",
    "plt.title('Accuracy over Epochs')\n",
    "plt.show()"
   ]
  },
  {
   "cell_type": "code",
   "execution_count": 398,
   "metadata": {},
   "outputs": [
    {
     "name": "stdout",
     "output_type": "stream",
     "text": [
      "40/40 [==============================] - 1s 4ms/step - loss: 0.1160 - accuracy: 0.9906\n"
     ]
    },
    {
     "data": {
      "text/plain": [
       "[0.11604265868663788, 0.9905660152435303]"
      ]
     },
     "execution_count": 398,
     "metadata": {},
     "output_type": "execute_result"
    }
   ],
   "source": [
    "model.evaluate(x_test, y_test)"
   ]
  },
  {
   "attachments": {},
   "cell_type": "markdown",
   "metadata": {},
   "source": [
    "Then looking at a confusion matrix to show our prediction performance:"
   ]
  },
  {
   "cell_type": "code",
   "execution_count": 413,
   "metadata": {},
   "outputs": [
    {
     "name": "stdout",
     "output_type": "stream",
     "text": [
      "40/40 [==============================] - 1s 5ms/step\n"
     ]
    },
    {
     "name": "stderr",
     "output_type": "stream",
     "text": [
      "C:\\Users\\Public\\Documents\\Wondershare\\CreatorTemp\\ipykernel_22936\\4029204614.py:3: DeprecationWarning: `np.int` is a deprecated alias for the builtin `int`. To silence this warning, use `int` by itself. Doing this will not modify any behavior and is safe. When replacing `np.int`, you may wish to use e.g. `np.int64` or `np.int32` to specify the precision. If you wish to review your current use, check the release note link for additional information.\n",
      "Deprecated in NumPy 1.20; for more details and guidance: https://numpy.org/devdocs/release/1.20.0-notes.html#deprecations\n",
      "  y_pred = (model.predict(x_test) > 0.5).astype(np.int)\n"
     ]
    },
    {
     "data": {
      "image/png": "[encoded data removed]",
      "text/plain": [
       "<Figure size 576x576 with 2 Axes>"
      ]
     },
     "metadata": {
      "needs_background": "light"
     },
     "output_type": "display_data"
    }
   ],
   "source": [
    "from sklearn.metrics import confusion_matrix\n",
    "from sklearn.metrics import ConfusionMatrixDisplay\n",
    "y_pred = (model.predict(x_test) > 0.5).astype(np.int)\n",
    "cm = confusion_matrix(y_test, y_pred)\n",
    "fig, ax = plt.subplots(figsize=(8, 8))\n",
    "cm_display = ConfusionMatrixDisplay(cm)\n",
    "cm_display.plot(ax=ax, cmap='Blues')\n",
    "ax.set_title('Confusion Matrix')\n",
    "ax.set_xlabel('Predicted Label')\n",
    "ax.set_ylabel('True Label')\n",
    "plt.show()"
   ]
  },
  {
   "attachments": {},
   "cell_type": "markdown",
   "metadata": {},
   "source": [
    "Frustratingly, no correct predictions for finding an exoplanet. Looking at other performance metrics (ultimately redundant given model performance):"
   ]
  },
  {
   "cell_type": "code",
   "execution_count": 397,
   "metadata": {},
   "outputs": [
    {
     "name": "stdout",
     "output_type": "stream",
     "text": [
      "Accuracy: 0.9906\n",
      "Precision: 0.0000\n",
      "Recall: 0.0000\n",
      "F1 Score: 0.0000\n"
     ]
    },
    {
     "name": "stderr",
     "output_type": "stream",
     "text": [
      "c:\\Users\\patri\\AppData\\Local\\Programs\\Python\\Python310\\lib\\site-packages\\sklearn\\metrics\\_classification.py:1344: UndefinedMetricWarning: Precision is ill-defined and being set to 0.0 due to no predicted samples. Use `zero_division` parameter to control this behavior.\n",
      "  _warn_prf(average, modifier, msg_start, len(result))\n"
     ]
    }
   ],
   "source": [
    "from sklearn.metrics import roc_curve, auc, accuracy_score, precision_score, recall_score, f1_score\n",
    "fpr, tpr, thresholds = roc_curve(y_test, y_pred)\n",
    "roc_auc = auc(fpr, tpr)\n",
    "acc = accuracy_score(y_test, y_pred.round())\n",
    "precision = precision_score(y_test, y_pred.round())\n",
    "recall = recall_score(y_test, y_pred.round())\n",
    "f1 = f1_score(y_test, y_pred.round())\n",
    "print('Accuracy: {:.4f}'.format(acc))\n",
    "print('Precision: {:.4f}'.format(precision))\n",
    "print('Recall: {:.4f}'.format(recall))\n",
    "print('F1 Score: {:.4f}'.format(f1))"
   ]
  },
  {
   "attachments": {},
   "cell_type": "markdown",
   "metadata": {},
   "source": [
    "To check if this was related to the neural network specifically, I ran a support vector machine classifier to weigh its performance against the CNN:"
   ]
  },
  {
   "cell_type": "code",
   "execution_count": 399,
   "metadata": {},
   "outputs": [
    {
     "name": "stderr",
     "output_type": "stream",
     "text": [
      "c:\\Users\\patri\\AppData\\Local\\Programs\\Python\\Python310\\lib\\site-packages\\sklearn\\base.py:413: UserWarning: X has feature names, but SVC was fitted without feature names\n",
      "  warnings.warn(\n"
     ]
    },
    {
     "data": {
      "image/png": "[encoded data removed]",
      "text/plain": [
       "<Figure size 576x576 with 2 Axes>"
      ]
     },
     "metadata": {
      "needs_background": "light"
     },
     "output_type": "display_data"
    }
   ],
   "source": [
    "from sklearn.svm import SVC\n",
    "svc = SVC()\n",
    "svc_model = svc.fit(x_train, y_train)\n",
    "svc_pred = svc_model.predict(x_test)\n",
    "svc_cm = confusion_matrix(y_test, svc_pred)\n",
    "fig, ax = plt.subplots(figsize=(8, 8))\n",
    "svc_cm_display = ConfusionMatrixDisplay(svc_cm)\n",
    "svc_cm_display.plot(ax=ax, cmap='Blues')\n",
    "ax.set_title('Confusion Matrix')\n",
    "ax.set_xlabel('Predicted Label')\n",
    "ax.set_ylabel('True Label')\n",
    "plt.show()\n"
   ]
  },
  {
   "attachments": {},
   "cell_type": "markdown",
   "metadata": {},
   "source": [
    "While the support vector machine at least classified some stars as having orbiting planets, still no correct predictions."
   ]
  },
  {
   "attachments": {},
   "cell_type": "markdown",
   "metadata": {},
   "source": [
    "## Conclusions / Looking Forward"
   ]
  },
  {
   "attachments": {},
   "cell_type": "markdown",
   "metadata": {},
   "source": [
    "It is important to note that after discovering that both the SVM and CNN were unable to accurately find an orbiting exoplanet, I retrained the CNN model with multiple variations of the data preprocessed differently. This included:\n",
    "- different distributions\n",
    "- different normalization techniques\n",
    "- no normalization (just the batch normalization within the model)\n",
    "- no standardization\n",
    "- no Principal Component Analysis\n",
    "\n",
    "For the sake of redundancy, performance metrics / visualizations from the re-trained models have not been included in this presentation as they show the same result: every model created still resulted in a lack of an accurate exoplanet prediction."
   ]
  },
  {
   "attachments": {},
   "cell_type": "markdown",
   "metadata": {},
   "source": [
    "Ultimately, two different classifications attempts technically proved successful: both had high accuracy measurements. If I was to continue my analysis further, some things I would focus on:\n",
    "- cross-validation for the neural network hyperparameters\n",
    "- using CNNs with different architectures\n",
    "- different preprocessing techniques"
   ]
  }
 ],
 "metadata": {
  "kernelspec": {
   "display_name": "Python 3",
   "language": "python",
   "name": "python3"
  },
  "language_info": {
   "codemirror_mode": {
    "name": "ipython",
    "version": 3
   },
   "file_extension": ".py",
   "mimetype": "text/x-python",
   "name": "python",
   "nbconvert_exporter": "python",
   "pygments_lexer": "ipython3",
   "version": "3.10.8"
  },
  "orig_nbformat": 4
 },
 "nbformat": 4,
 "nbformat_minor": 2
}
